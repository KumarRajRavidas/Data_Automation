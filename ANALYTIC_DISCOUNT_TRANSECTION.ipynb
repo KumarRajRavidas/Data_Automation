{
 "cells": [
  {
   "cell_type": "code",
   "execution_count": 1,
   "id": "c888e864",
   "metadata": {},
   "outputs": [
    {
     "name": "stdout",
     "output_type": "stream",
     "text": [
      "******************************\n",
      "Today Date is : 2021-11-17\n",
      "******************************\n",
      "****************** COMPLETE **********************\n"
     ]
    }
   ],
   "source": [
    "from time import gmtime, strftime\n",
    "from datetime import datetime\n",
    "import datetime\n",
    "import requests\n",
    "import pandas as pd\n",
    "import json\n",
    "import jwt\n",
    "import time\n",
    "import ssl\n",
    "\n",
    "from datetime import datetime\n",
    "from pytz import timezone\n",
    "# format = \"%Y-%m-%d %H:%M:%S %Z%z\"\n",
    "format = \"%Y-%m-%d\"\n",
    "# Current time in UTC\n",
    "now_utc = datetime.now(timezone('UTC'))\n",
    "# print(now_utc.strftime(format))\n",
    "# Convert to Asia/Kolkata time zone\n",
    "now_asia = now_utc.astimezone(timezone('Asia/Kolkata'))\n",
    "Today = str(now_asia.strftime(format))\n",
    "\n",
    "# now = datetime.now()\n",
    "# Time = now.strftime(\"%a %b %d %Y %I:%M GMT(%Z)\\n\")\n",
    "# Time = strftime(\"%a %b %d %Y %I:%M:%S GMT(%Z)\\n\")\n",
    "# tokenCreationTime = str(datetime.now().time())\n",
    "# import time\n",
    "print(\"******************************\")\n",
    "print(\"Today Date is :\",Today)\n",
    "print(\"******************************\")\n",
    "# URL = \"https://api.ristaapps.com/v1/inventory/item/activity\"\n",
    "# URL = \"https://api.ristaapps.com/v1/items/soldout\"\n",
    "# URL = \"https://api.ristaapps.com/v1/sales/page\"\n",
    "# URL = \"https://api.ristaapps.com/v1\"\n",
    "\n",
    "URL = \"https://api.ristaapps.com/v1/analytics/discount/transactions\"\n",
    "\n",
    "# URL = \"https://api.ristaapps.com/v1/inventory/item/activity\"\n",
    "\n",
    "\n",
    "apiKey = 'e1b9bba5-206f-47a7-9904-633b3d95a8c7'\n",
    "secretKey = 'mdgGj4sOp5Ly4ed-s2lYFuDrON8nic56L9lJ81nEMmY'\n",
    "\n",
    "tokenCreationTime = int(round(time.time()))\n",
    "# print(tokenCreationTime)\n",
    "\n",
    "payload = {\"iss\": apiKey, \"iat\": tokenCreationTime}\n",
    "\n",
    "token =   jwt.encode(payload, secretKey) \n",
    "#*************************************************************************************\n",
    "BRANCH_URL = \"https://api.ristaapps.com/v1/branch/list\"\n",
    "head = {\"x-api-token\": token, \"x-api-key\": apiKey,  'content-type': 'application/json'}\n",
    "response=requests.get(BRANCH_URL,headers=head).json()\n",
    "df = pd.json_normalize(response)\n",
    "Branch_Code=[]\n",
    "for i in df['branchCode']:\n",
    "    Branch_Code.append(str(i))\n",
    "#*************************************************************************************    \n",
    "\n",
    "# appended_data.append(data)# loop\n",
    "# appended_data = pd.concat(appended_data)\n",
    "appended_data = []\n",
    "for BC in Branch_Code:\n",
    "    try:\n",
    "#         print(\"Working Branch :\",BC)\n",
    "        #run your code\n",
    "        paras = {\"branch\": BC, \"day\":'2021-11-16'}\n",
    "        head = {\"x-api-token\": token, \"x-api-key\": apiKey,  'content-type': 'application/json'}\n",
    "        response = requests.get(URL, params=paras, headers=head).json()\n",
    "        file = response['data']\n",
    "        df = pd.json_normalize(file)\n",
    "        appended_data.append(df)# loop\n",
    "        \n",
    "#         print(appended_data)\n",
    "        \n",
    "    except:\n",
    "#         print('Erro')\n",
    "#         print(\"Not Working Branch :\",BC)\n",
    "        pass\n",
    "# requests.get(URL, params=paras, headers=head).json()\n",
    "# print(response.text)\n",
    "\n",
    "# response = requests.get(URL, headers={'x-api-key': apiKey ,'x-api-token': jwt.encode({ \"iss\": apiKey, \"iat\": int(round(time.time())) }, secretKey, algorithm=\"HS256\")}, data={ \"iss\": apiKey, \"iat\": int(round(time.time()))})\n",
    "# print(response.json())\n",
    "# (response).json()\n",
    "# print(response.text)\n",
    "# print(response)\n",
    "appended_data = pd.concat(appended_data)\n",
    "print('****************** COMPLETE **********************')\n",
    "    # print(response)\n",
    "\n",
    "    "
   ]
  },
  {
   "cell_type": "code",
   "execution_count": 8,
   "id": "a86625ad",
   "metadata": {
    "scrolled": true
   },
   "outputs": [
    {
     "name": "stdout",
     "output_type": "stream",
     "text": [
      "branchName\n",
      "branchCode\n",
      "invoiceNumber\n",
      "invoiceDate\n",
      "invoiceType\n",
      "discountCode\n",
      "discountAmount\n",
      "saleAmount\n",
      "appliedBy\n",
      "reason\n"
     ]
    }
   ],
   "source": [
    "for i in appended_data.columns:\n",
    "    print(i)"
   ]
  },
  {
   "cell_type": "code",
   "execution_count": 13,
   "id": "32dff0a9",
   "metadata": {},
   "outputs": [],
   "source": [
    "import json\n",
    "\n",
    "# Opening JSON file\n",
    "f = open('analytics_discount_transactions.json',)\n",
    "\n",
    "# returns JSON object as\n",
    "# a dictionary\n",
    "data = json.load(f)\n",
    "\n",
    "# Iterating through the json\n",
    "# lisbt\n",
    "# for i in data['emp_details']:\n",
    "# \tprint(i)\n",
    "\n",
    "# # Closing file\n",
    "# f.close()\n",
    "\n",
    "\n",
    "file_Json = data['data']\n",
    "df = pd.json_normalize(file_Json)\n",
    "\n",
    "\n"
   ]
  },
  {
   "cell_type": "code",
   "execution_count": 16,
   "id": "324e94ea",
   "metadata": {},
   "outputs": [
    {
     "name": "stdout",
     "output_type": "stream",
     "text": [
      "branchName\n",
      "branchCode\n",
      "invoiceNumber\n",
      "invoiceDate\n",
      "invoiceType\n",
      "discountCode\n",
      "discountAmount\n",
      "discountPercentage\n",
      "couponCode\n",
      "couponProvider\n",
      "campaignName\n",
      "billNetDiscount\n",
      "billGrossAmount\n",
      "saleAmount\n",
      "appliedBy\n",
      "reason\n"
     ]
    }
   ],
   "source": [
    "for i in df.columns:\n",
    "    print(i)"
   ]
  },
  {
   "cell_type": "code",
   "execution_count": 6,
   "id": "a444e2ac",
   "metadata": {},
   "outputs": [
    {
     "data": {
      "text/plain": [
       "335479.1599999999"
      ]
     },
     "execution_count": 6,
     "metadata": {},
     "output_type": "execute_result"
    }
   ],
   "source": [
    "appended_data['saleAmount'].sum() + appended_data['discountAmount'].sum()"
   ]
  }
 ],
 "metadata": {
  "kernelspec": {
   "display_name": "Python 3",
   "language": "python",
   "name": "python3"
  },
  "language_info": {
   "codemirror_mode": {
    "name": "ipython",
    "version": 3
   },
   "file_extension": ".py",
   "mimetype": "text/x-python",
   "name": "python",
   "nbconvert_exporter": "python",
   "pygments_lexer": "ipython3",
   "version": "3.8.8"
  }
 },
 "nbformat": 4,
 "nbformat_minor": 5
}
