{
 "cells": [
  {
   "cell_type": "markdown",
   "id": "9c2d6091",
   "metadata": {},
   "source": [
    "# Google Anlytics"
   ]
  },
  {
   "cell_type": "code",
   "execution_count": 2,
   "id": "cf971f83",
   "metadata": {},
   "outputs": [],
   "source": [
    "from oauth2client.client import OAuth2WebServerFlow"
   ]
  },
  {
   "cell_type": "code",
   "execution_count": null,
   "id": "741dec7e",
   "metadata": {},
   "outputs": [],
   "source": []
  },
  {
   "cell_type": "code",
   "execution_count": 3,
   "id": "b0c693d6",
   "metadata": {},
   "outputs": [],
   "source": [
    "from oauth2client.client import OAuth2WebServerFlow\n",
    "from oauth2client.tools import run_flow\n",
    "from oauth2client.file import Storage\n",
    "import json\n",
    "import os\n",
    "import re\n",
    "import httplib2 \n",
    "from oauth2client import GOOGLE_REVOKE_URI, GOOGLE_TOKEN_URI, client\n",
    "import requests\n",
    "import pandas as pd"
   ]
  },
  {
   "cell_type": "code",
   "execution_count": 17,
   "id": "aade4f4d",
   "metadata": {},
   "outputs": [],
   "source": [
    "def get_refresh_token(client_id,client_secret):\n",
    "    CLIENT_ID = client_id\n",
    "    CLIENT_SECRET = client_secret\n",
    "    SCOPE = 'https://www.googleapis.com/auth/analytics.readonly'\n",
    "    REDIRECT_URI = 'http:localhost:8080'\n",
    "  \n",
    "    flow = OAuth2WebServerFlow(client_id=CLIENT_ID,client_secret=CLIENT_SECRET,scope=SCOPE,redirect_uri=REDIRECT_URI)\n",
    "    if where_json('credential.json')==False:\n",
    "        storage = Storage('credential.json') \n",
    "        credentials = run_flow(flow, storage)\n",
    "        refresh_token=credentials.refresh_token\n",
    "       \n",
    "    elif where_json('credential.json')==True:\n",
    "        with open('credential.json') as json_file:  \n",
    "            data = json.load(json_file)\n",
    "        refresh_token=data['refresh_token']\n",
    "  \n",
    "    return(refresh_token)"
   ]
  },
  {
   "cell_type": "code",
   "execution_count": 6,
   "id": "23532ca3",
   "metadata": {
    "scrolled": true
   },
   "outputs": [
    {
     "ename": "NameError",
     "evalue": "name 'where_json' is not defined",
     "output_type": "error",
     "traceback": [
      "\u001b[1;31m---------------------------------------------------------------------------\u001b[0m",
      "\u001b[1;31mNameError\u001b[0m                                 Traceback (most recent call last)",
      "\u001b[1;32m<ipython-input-6-65ba39a6ef5f>\u001b[0m in \u001b[0;36m<module>\u001b[1;34m\u001b[0m\n\u001b[0;32m      1\u001b[0m \u001b[0mclient_id\u001b[0m \u001b[1;33m=\u001b[0m \u001b[1;34m'XXXXXXXXXXXXXXXXXXXXXXXXXXXXXXXXXXXXXXXXXXXX'\u001b[0m\u001b[1;33m\u001b[0m\u001b[1;33m\u001b[0m\u001b[0m\n\u001b[0;32m      2\u001b[0m \u001b[0mclient_secret\u001b[0m \u001b[1;33m=\u001b[0m \u001b[1;34m'XXXXXXXXXXXXXX'\u001b[0m\u001b[1;33m\u001b[0m\u001b[1;33m\u001b[0m\u001b[0m\n\u001b[1;32m----> 3\u001b[1;33m \u001b[0mrefresh_token\u001b[0m\u001b[1;33m=\u001b[0m\u001b[0mget_refresh_token\u001b[0m\u001b[1;33m(\u001b[0m\u001b[0mclient_id\u001b[0m\u001b[1;33m,\u001b[0m\u001b[0mclient_secret\u001b[0m\u001b[1;33m)\u001b[0m\u001b[1;33m\u001b[0m\u001b[1;33m\u001b[0m\u001b[0m\n\u001b[0m",
      "\u001b[1;32m<ipython-input-5-af2098f56039>\u001b[0m in \u001b[0;36mget_refresh_token\u001b[1;34m(client_id, client_secret)\u001b[0m\n\u001b[0;32m      6\u001b[0m \u001b[1;33m\u001b[0m\u001b[0m\n\u001b[0;32m      7\u001b[0m     \u001b[0mflow\u001b[0m \u001b[1;33m=\u001b[0m \u001b[0mOAuth2WebServerFlow\u001b[0m\u001b[1;33m(\u001b[0m\u001b[0mclient_id\u001b[0m\u001b[1;33m=\u001b[0m\u001b[0mCLIENT_ID\u001b[0m\u001b[1;33m,\u001b[0m\u001b[0mclient_secret\u001b[0m\u001b[1;33m=\u001b[0m\u001b[0mCLIENT_SECRET\u001b[0m\u001b[1;33m,\u001b[0m\u001b[0mscope\u001b[0m\u001b[1;33m=\u001b[0m\u001b[0mSCOPE\u001b[0m\u001b[1;33m,\u001b[0m\u001b[0mredirect_uri\u001b[0m\u001b[1;33m=\u001b[0m\u001b[0mREDIRECT_URI\u001b[0m\u001b[1;33m)\u001b[0m\u001b[1;33m\u001b[0m\u001b[1;33m\u001b[0m\u001b[0m\n\u001b[1;32m----> 8\u001b[1;33m     \u001b[1;32mif\u001b[0m \u001b[0mwhere_json\u001b[0m\u001b[1;33m(\u001b[0m\u001b[1;34m'credential.json'\u001b[0m\u001b[1;33m)\u001b[0m\u001b[1;33m==\u001b[0m\u001b[1;32mFalse\u001b[0m\u001b[1;33m:\u001b[0m\u001b[1;33m\u001b[0m\u001b[1;33m\u001b[0m\u001b[0m\n\u001b[0m\u001b[0;32m      9\u001b[0m        \u001b[0mstorage\u001b[0m \u001b[1;33m=\u001b[0m \u001b[0mStorage\u001b[0m\u001b[1;33m(\u001b[0m\u001b[1;34m'credential.json'\u001b[0m\u001b[1;33m)\u001b[0m\u001b[1;33m\u001b[0m\u001b[1;33m\u001b[0m\u001b[0m\n\u001b[0;32m     10\u001b[0m        \u001b[0mcredentials\u001b[0m \u001b[1;33m=\u001b[0m \u001b[0mrun_flow\u001b[0m\u001b[1;33m(\u001b[0m\u001b[0mflow\u001b[0m\u001b[1;33m,\u001b[0m \u001b[0mstorage\u001b[0m\u001b[1;33m)\u001b[0m\u001b[1;33m\u001b[0m\u001b[1;33m\u001b[0m\u001b[0m\n",
      "\u001b[1;31mNameError\u001b[0m: name 'where_json' is not defined"
     ]
    }
   ],
   "source": [
    "client_id = 'XXXXXXXXXXXXXXXXXXXXXXXXXXXXXXXXXXXXXXXXXXXX'\n",
    "client_secret = 'XXXXXXXXXXXXXX'\n",
    "refresh_token=get_refresh_token(client_id,client_secret)"
   ]
  },
  {
   "cell_type": "code",
   "execution_count": 13,
   "id": "47b5c5ea",
   "metadata": {},
   "outputs": [],
   "source": [
    "''' function return the google analytics data for given dimension, metrics, start data, end data access token, type,goal number, condition'''\n",
    "\n",
    "def google_analytics_reporting_api_data_extraction(viewID,dim,met,start_date,end_date,refresh_token,transaction_type,goal_number,condition):\n",
    "    \n",
    "    viewID=viewID;dim=dim;met=met;start_date=start_date;end_date=end_date;refresh_token=refresh_token;transaction_type=transaction_type;condition=condition\n",
    "    goal_number=goal_number\n",
    "    viewID=\"\".join(['ga%3A',viewID])\n",
    "    \n",
    "    if transaction_type==\"Goal\":\n",
    "        met1=\"%2C\".join([re.sub(\":\",\"%3A\",i) for i in met]).replace(\"XX\",str(goal_number))\n",
    "    elif transaction_type==\"Transaction\":\n",
    "        met1=\"%2C\".join([re.sub(\":\",\"%3A\",i) for i in met])\n",
    "        \n",
    "    dim1=\"%2C\".join([re.sub(\":\",\"%3A\",i) for i in dim])\n",
    "    \n",
    "    if where_json('credential.json')==True:\n",
    "        with open('credential.json') as json_file:  \n",
    "            storage_data = json.load(json_file)\n",
    "       \n",
    "        client_id=storage_data['client_id']\n",
    "        client_secret=storage_data['client_secret']\n",
    "        credentials = client.OAuth2Credentials(\n",
    "                access_token=None, client_id=client_id, client_secret=client_secret, refresh_token=refresh_token,\n",
    "                token_expiry=3600,token_uri=GOOGLE_TOKEN_URI,user_agent='my-user-agent/1.0',revoke_uri=GOOGLE_REVOKE_URI)\n",
    "\n",
    "        credentials.refresh(httplib2.Http())\n",
    "        rt=(json.loads(credentials.to_json()))['access_token']\n",
    "  \n",
    "        api_url=\"https://www.googleapis.com/analytics/v3/data/ga?ids=\"\n",
    "    \n",
    "        url=\"\".join([api_url,viewID,'&start-date=',start_date,'&end-date=',end_date,'&metrics=',met1,'&dimensions=',dim1,'&max-results=1000000',condition,'&access_token=',rt])\n",
    "    \n",
    "        data=pd.DataFrame()\n",
    "    \n",
    "        try:\n",
    "            r = requests.get(url)   \n",
    "            try:\n",
    "                data=pd.DataFrame(list((r.json())['rows']),columns=[re.sub(\"ga:\",\"\",i) for i in dim+met])\n",
    "                data['date']=start_date\n",
    "                print(\"data extraction is successfully completed\")\n",
    "           \n",
    "                return data\n",
    "            except:\n",
    "                print((r.json()))\n",
    "        except:\n",
    "            print((r.json()))\n",
    "            print(\"error occured in the google analytics reporting api data extraction\")"
   ]
  },
  {
   "cell_type": "code",
   "execution_count": null,
   "id": "c35bdbc0",
   "metadata": {},
   "outputs": [],
   "source": [
    "viewID='XXXXXXXX'\n",
    "dim=['ga:browser','ga:sourceMedium']\n",
    "met=['ga:users','ga:revenuePerTransaction']\n",
    "start_date='2019-01-01'\n",
    "end_date='2019-01-10'\n",
    "transaction_type='Transaction'\n",
    "goal_number=''\n",
    "refresh_token=refresh_token\n",
    "condition=''\n",
    "\n",
    "data=google_analytics_reporting_api_data_extraction(viewID,dim,met,start_date,end_date,refresh_token,transaction_type,goal_number,condition)"
   ]
  }
 ],
 "metadata": {
  "kernelspec": {
   "display_name": "Python 3 (ipykernel)",
   "language": "python",
   "name": "python3"
  },
  "language_info": {
   "codemirror_mode": {
    "name": "ipython",
    "version": 3
   },
   "file_extension": ".py",
   "mimetype": "text/x-python",
   "name": "python",
   "nbconvert_exporter": "python",
   "pygments_lexer": "ipython3",
   "version": "3.9.7"
  }
 },
 "nbformat": 4,
 "nbformat_minor": 5
}
